{
 "cells": [
  {
   "attachments": {},
   "cell_type": "markdown",
   "metadata": {},
   "source": [
    "##### Objective : Predict purchased or not using decision tree model"
   ]
  },
  {
   "cell_type": "code",
   "execution_count": 1514,
   "metadata": {},
   "outputs": [],
   "source": [
    "import numpy as np \n",
    "import pandas as pd \n",
    "\n",
    "import matplotlib.pyplot as plt\n",
    "import seaborn as sns\n",
    "\n",
    "from sklearn.feature_selection import mutual_info_classif\n",
    "from sklearn.model_selection import train_test_split, cross_val_score\n",
    "from sklearn.preprocessing import MinMaxScaler\n",
    "from imblearn.over_sampling import SMOTE\n",
    "from sklearn.tree import DecisionTreeClassifier\n",
    "from sklearn import tree\n",
    "from sklearn.model_selection import GridSearchCV\n",
    "from sklearn.metrics import accuracy_score\n",
    "from sklearn.metrics import classification_report, confusion_matrix"
   ]
  },
  {
   "cell_type": "code",
   "execution_count": 1515,
   "metadata": {},
   "outputs": [],
   "source": [
    "dataframe = pd.read_csv('E:\\Data Science\\Python\\machine learning exercise\\dataset\\Social_Network_Ads.csv')"
   ]
  },
  {
   "cell_type": "code",
   "execution_count": 1516,
   "metadata": {},
   "outputs": [],
   "source": [
    "dataframe.drop(columns='User ID', axis=1, inplace=True)"
   ]
  },
  {
   "cell_type": "code",
   "execution_count": 1517,
   "metadata": {},
   "outputs": [
    {
     "data": {
      "text/html": [
       "<div>\n",
       "<style scoped>\n",
       "    .dataframe tbody tr th:only-of-type {\n",
       "        vertical-align: middle;\n",
       "    }\n",
       "\n",
       "    .dataframe tbody tr th {\n",
       "        vertical-align: top;\n",
       "    }\n",
       "\n",
       "    .dataframe thead th {\n",
       "        text-align: right;\n",
       "    }\n",
       "</style>\n",
       "<table border=\"1\" class=\"dataframe\">\n",
       "  <thead>\n",
       "    <tr style=\"text-align: right;\">\n",
       "      <th></th>\n",
       "      <th>Gender</th>\n",
       "      <th>Age</th>\n",
       "      <th>EstimatedSalary</th>\n",
       "      <th>Purchased</th>\n",
       "    </tr>\n",
       "  </thead>\n",
       "  <tbody>\n",
       "    <tr>\n",
       "      <th>0</th>\n",
       "      <td>Male</td>\n",
       "      <td>19</td>\n",
       "      <td>19000</td>\n",
       "      <td>0</td>\n",
       "    </tr>\n",
       "    <tr>\n",
       "      <th>1</th>\n",
       "      <td>Male</td>\n",
       "      <td>35</td>\n",
       "      <td>20000</td>\n",
       "      <td>0</td>\n",
       "    </tr>\n",
       "    <tr>\n",
       "      <th>2</th>\n",
       "      <td>Female</td>\n",
       "      <td>26</td>\n",
       "      <td>43000</td>\n",
       "      <td>0</td>\n",
       "    </tr>\n",
       "    <tr>\n",
       "      <th>3</th>\n",
       "      <td>Female</td>\n",
       "      <td>27</td>\n",
       "      <td>57000</td>\n",
       "      <td>0</td>\n",
       "    </tr>\n",
       "    <tr>\n",
       "      <th>4</th>\n",
       "      <td>Male</td>\n",
       "      <td>19</td>\n",
       "      <td>76000</td>\n",
       "      <td>0</td>\n",
       "    </tr>\n",
       "    <tr>\n",
       "      <th>...</th>\n",
       "      <td>...</td>\n",
       "      <td>...</td>\n",
       "      <td>...</td>\n",
       "      <td>...</td>\n",
       "    </tr>\n",
       "    <tr>\n",
       "      <th>395</th>\n",
       "      <td>Female</td>\n",
       "      <td>46</td>\n",
       "      <td>41000</td>\n",
       "      <td>1</td>\n",
       "    </tr>\n",
       "    <tr>\n",
       "      <th>396</th>\n",
       "      <td>Male</td>\n",
       "      <td>51</td>\n",
       "      <td>23000</td>\n",
       "      <td>1</td>\n",
       "    </tr>\n",
       "    <tr>\n",
       "      <th>397</th>\n",
       "      <td>Female</td>\n",
       "      <td>50</td>\n",
       "      <td>20000</td>\n",
       "      <td>1</td>\n",
       "    </tr>\n",
       "    <tr>\n",
       "      <th>398</th>\n",
       "      <td>Male</td>\n",
       "      <td>36</td>\n",
       "      <td>33000</td>\n",
       "      <td>0</td>\n",
       "    </tr>\n",
       "    <tr>\n",
       "      <th>399</th>\n",
       "      <td>Female</td>\n",
       "      <td>49</td>\n",
       "      <td>36000</td>\n",
       "      <td>1</td>\n",
       "    </tr>\n",
       "  </tbody>\n",
       "</table>\n",
       "<p>400 rows × 4 columns</p>\n",
       "</div>"
      ],
      "text/plain": [
       "     Gender  Age  EstimatedSalary  Purchased\n",
       "0      Male   19            19000          0\n",
       "1      Male   35            20000          0\n",
       "2    Female   26            43000          0\n",
       "3    Female   27            57000          0\n",
       "4      Male   19            76000          0\n",
       "..      ...  ...              ...        ...\n",
       "395  Female   46            41000          1\n",
       "396    Male   51            23000          1\n",
       "397  Female   50            20000          1\n",
       "398    Male   36            33000          0\n",
       "399  Female   49            36000          1\n",
       "\n",
       "[400 rows x 4 columns]"
      ]
     },
     "execution_count": 1517,
     "metadata": {},
     "output_type": "execute_result"
    }
   ],
   "source": [
    "dataframe"
   ]
  },
  {
   "cell_type": "code",
   "execution_count": 1518,
   "metadata": {},
   "outputs": [
    {
     "data": {
      "text/plain": [
       "<AxesSubplot: >"
      ]
     },
     "execution_count": 1518,
     "metadata": {},
     "output_type": "execute_result"
    },
    {
     "data": {
      "image/png": "[encoded data removed]",
      "text/plain": [
       "<Figure size 544x408 with 1 Axes>"
      ]
     },
     "metadata": {},
     "output_type": "display_data"
    },
    {
     "data": {
      "image/png": "[encoded data removed]",
      "text/plain": [
       "<Figure size 544x408 with 1 Axes>"
      ]
     },
     "metadata": {},
     "output_type": "display_data"
    }
   ],
   "source": [
    "plt.figure()\n",
    "dataframe['Age'].hist()\n",
    "plt.figure()\n",
    "dataframe['EstimatedSalary'].hist()"
   ]
  },
  {
   "cell_type": "code",
   "execution_count": 1519,
   "metadata": {},
   "outputs": [
    {
     "data": {
      "text/plain": [
       "<AxesSubplot: >"
      ]
     },
     "execution_count": 1519,
     "metadata": {},
     "output_type": "execute_result"
    },
    {
     "data": {
      "image/png": "[encoded data removed]",
      "text/plain": [
       "<Figure size 544x408 with 1 Axes>"
      ]
     },
     "metadata": {},
     "output_type": "display_data"
    },
    {
     "data": {
      "image/png": "[encoded data removed]",
      "text/plain": [
       "<Figure size 544x408 with 1 Axes>"
      ]
     },
     "metadata": {},
     "output_type": "display_data"
    }
   ],
   "source": [
    "plt.figure()\n",
    "dataframe['Age'].plot(kind='box', vert=False)\n",
    "plt.figure()\n",
    "dataframe['EstimatedSalary'].plot(kind='box', vert=False)"
   ]
  },
  {
   "cell_type": "code",
   "execution_count": 1520,
   "metadata": {},
   "outputs": [
    {
     "data": {
      "text/plain": [
       "Gender            -0.042469\n",
       "Age                0.622454\n",
       "EstimatedSalary    0.362083\n",
       "Purchased          1.000000\n",
       "Name: Purchased, dtype: float64"
      ]
     },
     "execution_count": 1520,
     "metadata": {},
     "output_type": "execute_result"
    }
   ],
   "source": [
    "dataframe.replace({'Female':0, 'Male':1}).corr()['Purchased']"
   ]
  },
  {
   "cell_type": "code",
   "execution_count": 1521,
   "metadata": {},
   "outputs": [],
   "source": [
    "# Calculate WoE and IV\n",
    "def woe_iv_values(dataframe:pd.DataFrame, feature:str, target:str):\n",
    "    \n",
    "    dataframe = pd.concat([dataframe.groupby(feature)[target].sum().reset_index(), dataframe.groupby(feature)[target].count().reset_index()], axis=1)\n",
    "    dataframe = dataframe.iloc[:, [0,1, 3]]\n",
    "    dataframe.columns = [dataframe.columns.values[0], 'n_good', 'n_observation']\n",
    "\n",
    "    dataframe['n_bad'] = dataframe['n_observation'] - dataframe['n_good']\n",
    "    dataframe['bad-rate_pct'] = round((dataframe['n_bad'] / dataframe['n_observation']) * 100, 3)\n",
    "    dataframe['good_proportion'] = dataframe['n_good'] / dataframe['n_good'].sum()\n",
    "    dataframe['bad_proportion'] = dataframe['n_bad'] / dataframe['n_bad'].sum()\n",
    "    dataframe['WoE'] = np.log(dataframe['good_proportion'] / dataframe['bad_proportion'])\n",
    "    dataframe['IV'] = (dataframe['good_proportion'] - dataframe['bad_proportion'] * dataframe['WoE']).sum()\n",
    "\n",
    "    return dataframe"
   ]
  },
  {
   "cell_type": "code",
   "execution_count": 1522,
   "metadata": {},
   "outputs": [
    {
     "data": {
      "text/html": [
       "<div>\n",
       "<style scoped>\n",
       "    .dataframe tbody tr th:only-of-type {\n",
       "        vertical-align: middle;\n",
       "    }\n",
       "\n",
       "    .dataframe tbody tr th {\n",
       "        vertical-align: top;\n",
       "    }\n",
       "\n",
       "    .dataframe thead th {\n",
       "        text-align: right;\n",
       "    }\n",
       "</style>\n",
       "<table border=\"1\" class=\"dataframe\">\n",
       "  <thead>\n",
       "    <tr style=\"text-align: right;\">\n",
       "      <th></th>\n",
       "      <th>Gender</th>\n",
       "      <th>n_good</th>\n",
       "      <th>n_observation</th>\n",
       "      <th>n_bad</th>\n",
       "      <th>bad-rate_pct</th>\n",
       "      <th>good_proportion</th>\n",
       "      <th>bad_proportion</th>\n",
       "      <th>WoE</th>\n",
       "      <th>IV</th>\n",
       "    </tr>\n",
       "  </thead>\n",
       "  <tbody>\n",
       "    <tr>\n",
       "      <th>0</th>\n",
       "      <td>Female</td>\n",
       "      <td>77</td>\n",
       "      <td>204</td>\n",
       "      <td>127</td>\n",
       "      <td>62.255</td>\n",
       "      <td>0.538462</td>\n",
       "      <td>0.494163</td>\n",
       "      <td>0.085850</td>\n",
       "      <td>1.003935</td>\n",
       "    </tr>\n",
       "    <tr>\n",
       "      <th>1</th>\n",
       "      <td>Male</td>\n",
       "      <td>66</td>\n",
       "      <td>196</td>\n",
       "      <td>130</td>\n",
       "      <td>66.327</td>\n",
       "      <td>0.461538</td>\n",
       "      <td>0.505837</td>\n",
       "      <td>-0.091648</td>\n",
       "      <td>1.003935</td>\n",
       "    </tr>\n",
       "  </tbody>\n",
       "</table>\n",
       "</div>"
      ],
      "text/plain": [
       "   Gender  n_good  n_observation  n_bad  bad-rate_pct  good_proportion  \\\n",
       "0  Female      77            204    127        62.255         0.538462   \n",
       "1    Male      66            196    130        66.327         0.461538   \n",
       "\n",
       "   bad_proportion       WoE        IV  \n",
       "0        0.494163  0.085850  1.003935  \n",
       "1        0.505837 -0.091648  1.003935  "
      ]
     },
     "execution_count": 1522,
     "metadata": {},
     "output_type": "execute_result"
    }
   ],
   "source": [
    "# IV values = 1 means the feature is to good to be true, we can drop it or we can use it depends on business intuition\n",
    "woe_iv_values(dataframe=dataframe, feature='Gender', target='Purchased')"
   ]
  },
  {
   "cell_type": "code",
   "execution_count": 1523,
   "metadata": {},
   "outputs": [],
   "source": [
    "X = dataframe.drop(columns='Purchased', axis=1)\n",
    "y = dataframe.Purchased"
   ]
  },
  {
   "cell_type": "code",
   "execution_count": 1524,
   "metadata": {},
   "outputs": [],
   "source": [
    "X['Gender'] = X['Gender'].replace({'Female':0, 'Male':1})"
   ]
  },
  {
   "cell_type": "code",
   "execution_count": 1525,
   "metadata": {},
   "outputs": [
    {
     "data": {
      "text/plain": [
       "array([0.02242457, 0.22574413, 0.10043914])"
      ]
     },
     "execution_count": 1525,
     "metadata": {},
     "output_type": "execute_result"
    }
   ],
   "source": [
    "# Calculate mutual information\n",
    "# Mutual information = 0 means, there is no relationship between predictor and target variables\n",
    "mutual_info_classif(X, y)"
   ]
  },
  {
   "cell_type": "code",
   "execution_count": 1526,
   "metadata": {},
   "outputs": [],
   "source": [
    "X.drop('Gender', axis=1, inplace=True)"
   ]
  },
  {
   "cell_type": "code",
   "execution_count": 1527,
   "metadata": {},
   "outputs": [
    {
     "data": {
      "text/plain": [
       "0    257\n",
       "1    143\n",
       "Name: Purchased, dtype: int64"
      ]
     },
     "execution_count": 1527,
     "metadata": {},
     "output_type": "execute_result"
    }
   ],
   "source": [
    "y.value_counts()"
   ]
  },
  {
   "cell_type": "code",
   "execution_count": 1528,
   "metadata": {},
   "outputs": [
    {
     "data": {
      "text/plain": [
       "('Target proportion : ', array([64.25]), array([35.75]))"
      ]
     },
     "execution_count": 1528,
     "metadata": {},
     "output_type": "execute_result"
    }
   ],
   "source": [
    "# Imbalance target prediction\n",
    "'Target proportion : ', y.value_counts().values[0]/y.shape * 100, y.value_counts().values[1]/y.shape * 100"
   ]
  },
  {
   "cell_type": "code",
   "execution_count": 1529,
   "metadata": {},
   "outputs": [],
   "source": [
    "X_train, X_test, y_train, y_test = train_test_split(X, y, random_state=11, test_size=0.3, stratify=y)"
   ]
  },
  {
   "cell_type": "code",
   "execution_count": 1530,
   "metadata": {},
   "outputs": [],
   "source": [
    "# Scaling, MinMax scaler\n",
    "scaler = MinMaxScaler()\n",
    "scaler.fit(X_train)\n",
    "\n",
    "X_train_scale = scaler.fit_transform(X_train)\n",
    "y_train_scale = y_train\n",
    "X_test_scale = scaler.fit_transform(X_test)\n",
    "y_test_scale = y_test\n",
    "\n",
    "# Scaling X for cross validation check\n",
    "scaler2 = MinMaxScaler()\n",
    "scaler2.fit(X)\n",
    "\n",
    "X_scale = scaler2.fit_transform(X)"
   ]
  },
  {
   "cell_type": "code",
   "execution_count": 1531,
   "metadata": {},
   "outputs": [],
   "source": [
    "# Handle imbalance target prediction for unscaled data\n",
    "smote  = SMOTE(random_state=11)\n",
    "smote.fit(X_train, y_train)\n",
    "X_train, y_train = smote.fit_resample(X_train, y_train)\n",
    "\n",
    "# Handle imbalance target prediction for scaled data\n",
    "smote2 = SMOTE(random_state=11)\n",
    "smote2.fit(X_train_scale, y_train_scale)\n",
    "X_train_scale, y_train_scale = smote2.fit_resample(X_train_scale, y_train_scale)"
   ]
  },
  {
   "cell_type": "code",
   "execution_count": 1532,
   "metadata": {},
   "outputs": [
    {
     "data": {
      "text/plain": [
       "(     Age  EstimatedSalary\n",
       " 0     19            19000\n",
       " 1     35            20000\n",
       " 2     26            43000\n",
       " 3     27            57000\n",
       " 4     19            76000\n",
       " ..   ...              ...\n",
       " 395   46            41000\n",
       " 396   51            23000\n",
       " 397   50            20000\n",
       " 398   36            33000\n",
       " 399   49            36000\n",
       " \n",
       " [400 rows x 2 columns],\n",
       " 0    257\n",
       " 1    143\n",
       " Name: Purchased, dtype: int64)"
      ]
     },
     "execution_count": 1532,
     "metadata": {},
     "output_type": "execute_result"
    }
   ],
   "source": [
    "# Original dataset\n",
    "X, y.value_counts()"
   ]
  },
  {
   "cell_type": "code",
   "execution_count": 1533,
   "metadata": {},
   "outputs": [
    {
     "data": {
      "text/plain": [
       "(array([[0.02380952, 0.02962963],\n",
       "        [0.4047619 , 0.03703704],\n",
       "        [0.19047619, 0.20740741],\n",
       "        [0.21428571, 0.31111111],\n",
       "        [0.02380952, 0.45185185],\n",
       "        [0.21428571, 0.31851852],\n",
       "        [0.21428571, 0.51111111],\n",
       "        [0.33333333, 1.        ],\n",
       "        [0.16666667, 0.13333333],\n",
       "        [0.4047619 , 0.37037037]]),\n",
       " 0    257\n",
       " 1    143\n",
       " Name: Purchased, dtype: int64)"
      ]
     },
     "execution_count": 1533,
     "metadata": {},
     "output_type": "execute_result"
    }
   ],
   "source": [
    "# Dataset for cross validation model, with scaling \n",
    "X_scale[:10], y.value_counts()"
   ]
  },
  {
   "cell_type": "code",
   "execution_count": 1534,
   "metadata": {},
   "outputs": [
    {
     "data": {
      "text/plain": [
       "(     Age  EstimatedSalary\n",
       " 0     48            74000\n",
       " 1     53           143000\n",
       " 2     47            23000\n",
       " 3     33           149000\n",
       " 4     37            77000\n",
       " ..   ...              ...\n",
       " 355   45            76797\n",
       " 356   58            45911\n",
       " 357   40           136753\n",
       " 358   35           146713\n",
       " 359   45            74152\n",
       " \n",
       " [360 rows x 2 columns],\n",
       " 1    180\n",
       " 0    180\n",
       " Name: Purchased, dtype: int64)"
      ]
     },
     "execution_count": 1534,
     "metadata": {},
     "output_type": "execute_result"
    }
   ],
   "source": [
    "# Data train without scaling\n",
    "X_train, y_train.value_counts()"
   ]
  },
  {
   "cell_type": "code",
   "execution_count": 1535,
   "metadata": {},
   "outputs": [
    {
     "data": {
      "text/plain": [
       "(array([[0.71428571, 0.43703704],\n",
       "        [0.83333333, 0.94814815],\n",
       "        [0.69047619, 0.05925926],\n",
       "        [0.35714286, 0.99259259],\n",
       "        [0.45238095, 0.45925926],\n",
       "        [0.52380952, 0.34074074],\n",
       "        [0.4047619 , 0.25925926],\n",
       "        [0.85714286, 0.08148148],\n",
       "        [0.11904762, 0.03703704],\n",
       "        [0.73809524, 0.54814815]]),\n",
       " 1    180\n",
       " 0    180\n",
       " Name: Purchased, dtype: int64)"
      ]
     },
     "execution_count": 1535,
     "metadata": {},
     "output_type": "execute_result"
    }
   ],
   "source": [
    "# Data train with scaling\n",
    "X_train_scale[:10], y_train_scale.value_counts()"
   ]
  },
  {
   "attachments": {},
   "cell_type": "markdown",
   "metadata": {},
   "source": [
    "### Machine learning model 'Decision Tree' without scaling"
   ]
  },
  {
   "cell_type": "code",
   "execution_count": 1536,
   "metadata": {},
   "outputs": [
    {
     "name": "stdout",
     "output_type": "stream",
     "text": [
      "Train accuracy :  0.9972222222222222\n",
      "Test accuracy :  0.8916666666666667\n",
      "Cross validation score accuracy :  0.8250000000000002\n",
      "\n",
      "              precision    recall  f1-score   support\n",
      "\n",
      "           0       0.92      0.91      0.92        77\n",
      "           1       0.84      0.86      0.85        43\n",
      "\n",
      "    accuracy                           0.89       120\n",
      "   macro avg       0.88      0.88      0.88       120\n",
      "weighted avg       0.89      0.89      0.89       120\n",
      "\n"
     ]
    }
   ],
   "source": [
    "model = DecisionTreeClassifier()\n",
    "model.fit(X=X_train, y=y_train)\n",
    "print('Train accuracy : ', model.score(X_train, y_train))\n",
    "print('Test accuracy : ', model.score(X_test, y_test))\n",
    "# K-Fold cross validation\n",
    "print('Cross validation score accuracy : ', cross_val_score(model, X, y, cv=4).mean(), end='\\n\\n')\n",
    "\n",
    "y_pred = model.predict(X_test)\n",
    "\n",
    "report = classification_report(y_true=y_test, y_pred=y_pred)\n",
    "print(report)"
   ]
  },
  {
   "cell_type": "code",
   "execution_count": 1537,
   "metadata": {},
   "outputs": [],
   "source": [
    "# Display decision tree \n",
    "# plt.rcParams['figure.dpi'] = 85\n",
    "# plt.subplots(figsize=(25, 10))\n",
    "# tree.plot_tree(model, fontsize=10)\n",
    "# plt.show()"
   ]
  },
  {
   "attachments": {},
   "cell_type": "markdown",
   "metadata": {},
   "source": [
    "#### Hyperparameter tunnning"
   ]
  },
  {
   "cell_type": "code",
   "execution_count": 1538,
   "metadata": {},
   "outputs": [
    {
     "name": "stdout",
     "output_type": "stream",
     "text": [
      "Train accuracy : 0.9305555555555556\n",
      "Test accuracy : 0.8666666666666667\n",
      "Best param : {'criterion': 'gini', 'max_depth': 3, 'min_samples_split': 2}\n",
      "\n",
      "              precision    recall  f1-score   support\n",
      "\n",
      "           0       0.94      0.84      0.89        77\n",
      "           1       0.76      0.91      0.83        43\n",
      "\n",
      "    accuracy                           0.87       120\n",
      "   macro avg       0.85      0.88      0.86       120\n",
      "weighted avg       0.88      0.87      0.87       120\n",
      "\n"
     ]
    }
   ],
   "source": [
    "param_grid = {'max_depth': [3, 4, 5, 6, 7, 8],\n",
    "              'min_samples_split': [2, 3, 4, 5, 6],\n",
    "              'criterion': ['gini', 'entropy']}\n",
    "grid_search = GridSearchCV(model, param_grid=param_grid, cv=4, scoring='accuracy')\n",
    "\n",
    "grid_search.fit(X_train, y_train)\n",
    "\n",
    "y_train_pred = grid_search.predict(X_train)\n",
    "train_accuracy = accuracy_score(y_true=y_train, y_pred=y_train_pred)\n",
    "\n",
    "y_test_pred = grid_search.predict(X_test)\n",
    "test_accuracy =  accuracy_score(y_true=y_test, y_pred=y_test_pred)\n",
    "\n",
    "print('Train accuracy :', train_accuracy)\n",
    "print('Test accuracy :', test_accuracy)\n",
    "print('Best param :', grid_search.best_params_, end='\\n\\n')\n",
    "\n",
    "tun_report = classification_report(y_true=y_test, y_pred=y_test_pred)\n",
    "print(tun_report)"
   ]
  },
  {
   "attachments": {},
   "cell_type": "markdown",
   "metadata": {},
   "source": [
    "### Machine learning model 'Decision Tree' with scaling"
   ]
  },
  {
   "cell_type": "code",
   "execution_count": 1539,
   "metadata": {},
   "outputs": [
    {
     "name": "stdout",
     "output_type": "stream",
     "text": [
      "Train accuracy :  0.9972222222222222\n",
      "Test accuracy :  0.85\n",
      "Cross validation score accuracy :  0.8200000000000001\n",
      "\n",
      "              precision    recall  f1-score   support\n",
      "\n",
      "           0       0.87      0.90      0.88        77\n",
      "           1       0.80      0.77      0.79        43\n",
      "\n",
      "    accuracy                           0.85       120\n",
      "   macro avg       0.84      0.83      0.84       120\n",
      "weighted avg       0.85      0.85      0.85       120\n",
      "\n"
     ]
    }
   ],
   "source": [
    "model2 = DecisionTreeClassifier()\n",
    "model2.fit(X=X_train_scale, y=y_train_scale)\n",
    "print('Train accuracy : ', model2.score(X_train_scale, y_train_scale))\n",
    "print('Test accuracy : ', model2.score(X_test_scale, y_test_scale))\n",
    "# K-Fold cross validation\n",
    "print('Cross validation score accuracy : ', cross_val_score(model2, X_scale, y, cv=4).mean(), end='\\n\\n')\n",
    "\n",
    "y_pred2 = model2.predict(X_test_scale)\n",
    "\n",
    "report2 = classification_report(y_true=y_test_scale, y_pred=y_pred2)\n",
    "print(report2)"
   ]
  },
  {
   "cell_type": "code",
   "execution_count": 1540,
   "metadata": {},
   "outputs": [],
   "source": [
    "# Display decision tree\n",
    "# plt.rcParams['figure.dpi'] = 85\n",
    "# plt.subplots(figsize=(25, 10))\n",
    "# tree.plot_tree(model2, fontsize=10)\n",
    "# plt.show()"
   ]
  },
  {
   "attachments": {},
   "cell_type": "markdown",
   "metadata": {},
   "source": [
    "#### Hyperparameter tunning"
   ]
  },
  {
   "cell_type": "code",
   "execution_count": 1541,
   "metadata": {},
   "outputs": [
    {
     "name": "stdout",
     "output_type": "stream",
     "text": [
      "Train accuracy : 0.9527777777777777\n",
      "Test accuracy : 0.8583333333333333\n",
      "Best param : {'criterion': 'gini', 'max_depth': 4, 'min_samples_split': 6}\n",
      "\n",
      "              precision    recall  f1-score   support\n",
      "\n",
      "           0       0.89      0.88      0.89        77\n",
      "           1       0.80      0.81      0.80        43\n",
      "\n",
      "    accuracy                           0.86       120\n",
      "   macro avg       0.85      0.85      0.85       120\n",
      "weighted avg       0.86      0.86      0.86       120\n",
      "\n"
     ]
    }
   ],
   "source": [
    "param_grid = {'max_depth': [3, 4, 5, 6, 7, 8],\n",
    "              'min_samples_split': [2, 3, 4, 5, 6],\n",
    "              'criterion': ['gini', 'entropy']}\n",
    "grid_search = GridSearchCV(model2, param_grid=param_grid, cv=4, scoring='accuracy')\n",
    "\n",
    "grid_search.fit(X_train_scale, y_train_scale)\n",
    "\n",
    "y_train_pred2 = grid_search.predict(X_train_scale)\n",
    "train_accuracy = accuracy_score(y_true=y_train_scale, y_pred=y_train_pred2)\n",
    "\n",
    "y_test_pred2 = grid_search.predict(X_test_scale)\n",
    "test_accuracy =  accuracy_score(y_true=y_test_scale, y_pred=y_test_pred2)\n",
    "\n",
    "print('Train accuracy :', train_accuracy)\n",
    "print('Test accuracy :', test_accuracy)\n",
    "print('Best param :', grid_search.best_params_, end='\\n\\n')\n",
    "\n",
    "tun_report2 = classification_report(y_true=y_test, y_pred=y_test_pred2)\n",
    "print(tun_report2)"
   ]
  },
  {
   "attachments": {},
   "cell_type": "markdown",
   "metadata": {},
   "source": [
    "\"The decision tree algorithm model without feature scaling and with hyperparameter tuning showed the best performance with an accuracy of 93.0% on the training data and 86.6% on the testing data. Other decision tree models resulted in overfitting, with a significant difference between the accuracy of the training and testing data.\""
   ]
  }
 ],
 "metadata": {
  "kernelspec": {
   "display_name": "base",
   "language": "python",
   "name": "python3"
  },
  "language_info": {
   "codemirror_mode": {
    "name": "ipython",
    "version": 3
   },
   "file_extension": ".py",
   "mimetype": "text/x-python",
   "name": "python",
   "nbconvert_exporter": "python",
   "pygments_lexer": "ipython3",
   "version": "3.9.13"
  },
  "orig_nbformat": 4
 },
 "nbformat": 4,
 "nbformat_minor": 2
}
